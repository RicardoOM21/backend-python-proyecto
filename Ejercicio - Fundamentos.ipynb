{
 "cells": [
  {
   "cell_type": "markdown",
   "id": "fbc61f43",
   "metadata": {},
   "source": [
    "# Fundamentos"
   ]
  },
  {
   "cell_type": "code",
   "execution_count": 10,
   "id": "7a37287b",
   "metadata": {},
   "outputs": [
    {
     "name": "stdout",
     "output_type": "stream",
     "text": [
      "Ingresa un número entero: 2\n",
      "\n",
      "Ingresa un texto o cadena: hola\n",
      "\n",
      "Ingresa un número decimal: 6.4\n",
      "\n",
      "El valor del numero entero es:  2\n",
      "<class 'int'>\n",
      "\n",
      "El texto es:  hola\n",
      "<class 'str'>\n",
      "\n",
      "El valor del numero decimal es:  6.4\n",
      "<class 'float'>\n"
     ]
    }
   ],
   "source": [
    "Entero = eval(input(\"Ingresa un número entero: \"))\n",
    "String = input(\"\\nIngresa un texto o cadena: \")\n",
    "Float = float(input(\"\\nIngresa un número decimal: \"))\n",
    "print(\"\\nEl valor del numero entero es: \",Entero)\n",
    "print(type(Entero))\n",
    "print(\"\\nEl texto es: \",String)\n",
    "print(type(String))\n",
    "print(\"\\nEl valor del numero decimal es: \",Float)\n",
    "print(type(Float))"
   ]
  },
  {
   "cell_type": "code",
   "execution_count": null,
   "id": "e01d0fdc",
   "metadata": {},
   "outputs": [],
   "source": []
  }
 ],
 "metadata": {
  "kernelspec": {
   "display_name": "Python 3 (ipykernel)",
   "language": "python",
   "name": "python3"
  },
  "language_info": {
   "codemirror_mode": {
    "name": "ipython",
    "version": 3
   },
   "file_extension": ".py",
   "mimetype": "text/x-python",
   "name": "python",
   "nbconvert_exporter": "python",
   "pygments_lexer": "ipython3",
   "version": "3.10.9"
  }
 },
 "nbformat": 4,
 "nbformat_minor": 5
}
