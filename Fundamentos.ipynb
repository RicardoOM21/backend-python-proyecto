{
 "cells": [
  {
   "cell_type": "markdown",
   "id": "d643d038",
   "metadata": {},
   "source": [
    "# Python distingue mayusculas y minusculas"
   ]
  },
  {
   "cell_type": "code",
   "execution_count": 2,
   "id": "36368cc6",
   "metadata": {},
   "outputs": [
    {
     "name": "stdout",
     "output_type": "stream",
     "text": [
      "El Curso es: Backend Python\n"
     ]
    }
   ],
   "source": [
    "A=\"Backend Python\"\n",
    "print(\"El Curso es:\",A)"
   ]
  },
  {
   "cell_type": "code",
   "execution_count": 3,
   "id": "542183a6",
   "metadata": {},
   "outputs": [
    {
     "ename": "NameError",
     "evalue": "name 'a' is not defined",
     "output_type": "error",
     "traceback": [
      "\u001b[1;31m---------------------------------------------------------------------------\u001b[0m",
      "\u001b[1;31mNameError\u001b[0m                                 Traceback (most recent call last)",
      "Cell \u001b[1;32mIn[3], line 2\u001b[0m\n\u001b[0;32m      1\u001b[0m A\u001b[38;5;241m=\u001b[39m\u001b[38;5;124m\"\u001b[39m\u001b[38;5;124mBackend Python\u001b[39m\u001b[38;5;124m\"\u001b[39m\n\u001b[1;32m----> 2\u001b[0m \u001b[38;5;28mprint\u001b[39m(\u001b[38;5;124m\"\u001b[39m\u001b[38;5;124mEl Curso es:\u001b[39m\u001b[38;5;124m\"\u001b[39m,\u001b[43ma\u001b[49m)\n",
      "\u001b[1;31mNameError\u001b[0m: name 'a' is not defined"
     ]
    }
   ],
   "source": [
    "A=\"Backend Python\"\n",
    "print(\"El Curso es:\",a)"
   ]
  },
  {
   "cell_type": "code",
   "execution_count": 4,
   "id": "a1ae00ae",
   "metadata": {},
   "outputs": [
    {
     "name": "stdout",
     "output_type": "stream",
     "text": [
      "El Curso es: Backend Python\n"
     ]
    }
   ],
   "source": [
    "a=\"Backend Python\"\n",
    "print(\"El Curso es:\",a)"
   ]
  },
  {
   "cell_type": "markdown",
   "id": "e26ed0db",
   "metadata": {},
   "source": [
    "## Palabras Reservadas en Python"
   ]
  },
  {
   "cell_type": "code",
   "execution_count": 5,
   "id": "6623ae80",
   "metadata": {},
   "outputs": [
    {
     "name": "stdout",
     "output_type": "stream",
     "text": [
      "\n",
      "Here is a list of the Python keywords.  Enter any keyword to get more help.\n",
      "\n",
      "False               class               from                or\n",
      "None                continue            global              pass\n",
      "True                def                 if                  raise\n",
      "and                 del                 import              return\n",
      "as                  elif                in                  try\n",
      "assert              else                is                  while\n",
      "async               except              lambda              with\n",
      "await               finally             nonlocal            yield\n",
      "break               for                 not                 \n",
      "\n"
     ]
    }
   ],
   "source": [
    "help(\"keywords\")"
   ]
  },
  {
   "cell_type": "markdown",
   "id": "8ce47446",
   "metadata": {},
   "source": [
    "## Caracteres de Escape en Python"
   ]
  },
  {
   "cell_type": "code",
   "execution_count": 6,
   "id": "b748b9a8",
   "metadata": {},
   "outputs": [
    {
     "data": {
      "text/plain": [
       "'\\\\´'"
      ]
     },
     "execution_count": 6,
     "metadata": {},
     "output_type": "execute_result"
    }
   ],
   "source": [
    "\"\\´\" # Single Quote / Comilla Sencilla"
   ]
  },
  {
   "cell_type": "code",
   "execution_count": 7,
   "id": "3756362b",
   "metadata": {},
   "outputs": [
    {
     "data": {
      "text/plain": [
       "'´'"
      ]
     },
     "execution_count": 7,
     "metadata": {},
     "output_type": "execute_result"
    }
   ],
   "source": [
    "\"´\""
   ]
  },
  {
   "cell_type": "code",
   "execution_count": 8,
   "id": "9acda3d4",
   "metadata": {},
   "outputs": [
    {
     "ename": "SyntaxError",
     "evalue": "invalid character '´' (U+00B4) (1212569610.py, line 1)",
     "output_type": "error",
     "traceback": [
      "\u001b[1;36m  Cell \u001b[1;32mIn[8], line 1\u001b[1;36m\u001b[0m\n\u001b[1;33m    ´\\´´\u001b[0m\n\u001b[1;37m    ^\u001b[0m\n\u001b[1;31mSyntaxError\u001b[0m\u001b[1;31m:\u001b[0m invalid character '´' (U+00B4)\n"
     ]
    }
   ],
   "source": [
    "´\\´´ #ERROR"
   ]
  },
  {
   "cell_type": "code",
   "execution_count": 9,
   "id": "9368a8d9",
   "metadata": {},
   "outputs": [
    {
     "ename": "SyntaxError",
     "evalue": "invalid character '´' (U+00B4) (3866798848.py, line 1)",
     "output_type": "error",
     "traceback": [
      "\u001b[1;36m  Cell \u001b[1;32mIn[9], line 1\u001b[1;36m\u001b[0m\n\u001b[1;33m    ´´´\u001b[0m\n\u001b[1;37m    ^\u001b[0m\n\u001b[1;31mSyntaxError\u001b[0m\u001b[1;31m:\u001b[0m invalid character '´' (U+00B4)\n"
     ]
    }
   ],
   "source": [
    "´´´ #ERROR"
   ]
  },
  {
   "cell_type": "code",
   "execution_count": 10,
   "id": "e78ddf2e",
   "metadata": {},
   "outputs": [
    {
     "data": {
      "text/plain": [
       "'\" '"
      ]
     },
     "execution_count": 10,
     "metadata": {},
     "output_type": "execute_result"
    }
   ],
   "source": [
    "\"\\\" \" # Double Quote / Comilla Doble"
   ]
  },
  {
   "cell_type": "code",
   "execution_count": 11,
   "id": "821c4ad2",
   "metadata": {},
   "outputs": [
    {
     "ename": "SyntaxError",
     "evalue": "incomplete input (969763094.py, line 1)",
     "output_type": "error",
     "traceback": [
      "\u001b[1;36m  Cell \u001b[1;32mIn[11], line 1\u001b[1;36m\u001b[0m\n\u001b[1;33m    \"\"\"\u001b[0m\n\u001b[1;37m    ^\u001b[0m\n\u001b[1;31mSyntaxError\u001b[0m\u001b[1;31m:\u001b[0m incomplete input\n"
     ]
    }
   ],
   "source": [
    "\"\"\" #ERROR"
   ]
  },
  {
   "cell_type": "code",
   "execution_count": 12,
   "id": "9386a30a",
   "metadata": {},
   "outputs": [
    {
     "data": {
      "text/plain": [
       "'\\n'"
      ]
     },
     "execution_count": 12,
     "metadata": {},
     "output_type": "execute_result"
    }
   ],
   "source": [
    "\"\\n\" # New Line / Salto de Linea"
   ]
  },
  {
   "cell_type": "code",
   "execution_count": 13,
   "id": "a5a9d21f",
   "metadata": {},
   "outputs": [
    {
     "name": "stdout",
     "output_type": "stream",
     "text": [
      "Backend Python De EBAC\n"
     ]
    }
   ],
   "source": [
    "my_course = \"Backend Python De EBAC\"\n",
    "print(my_course)"
   ]
  },
  {
   "cell_type": "code",
   "execution_count": 14,
   "id": "7198fff2",
   "metadata": {},
   "outputs": [
    {
     "name": "stdout",
     "output_type": "stream",
     "text": [
      "Backend Python\n",
      "De EBAC\n"
     ]
    }
   ],
   "source": [
    "my_course = \"Backend Python\\nDe EBAC\"\n",
    "print(my_course)"
   ]
  },
  {
   "cell_type": "code",
   "execution_count": 15,
   "id": "ec306d4c",
   "metadata": {},
   "outputs": [
    {
     "ename": "SyntaxError",
     "evalue": "invalid syntax (1998069483.py, line 1)",
     "output_type": "error",
     "traceback": [
      "\u001b[1;36m  Cell \u001b[1;32mIn[15], line 1\u001b[1;36m\u001b[0m\n\u001b[1;33m    `\\´\u001b[0m\n\u001b[1;37m    ^\u001b[0m\n\u001b[1;31mSyntaxError\u001b[0m\u001b[1;31m:\u001b[0m invalid syntax\n"
     ]
    }
   ],
   "source": [
    "`\\´"
   ]
  },
  {
   "cell_type": "code",
   "execution_count": 16,
   "id": "711c6a5f",
   "metadata": {},
   "outputs": [
    {
     "data": {
      "text/plain": [
       "'\\t'"
      ]
     },
     "execution_count": 16,
     "metadata": {},
     "output_type": "execute_result"
    }
   ],
   "source": [
    "\"\\t\" # Tab / Espacio ligeramente mayor al \"espacio\" comun"
   ]
  },
  {
   "cell_type": "code",
   "execution_count": 17,
   "id": "e0e8d973",
   "metadata": {},
   "outputs": [
    {
     "data": {
      "text/plain": [
       "'\\r'"
      ]
     },
     "execution_count": 17,
     "metadata": {},
     "output_type": "execute_result"
    }
   ],
   "source": [
    "\"\\r\" # Carriage Retunr / Retorno de Carro"
   ]
  },
  {
   "cell_type": "code",
   "execution_count": 18,
   "id": "9400cdad",
   "metadata": {},
   "outputs": [
    {
     "name": "stdout",
     "output_type": "stream",
     "text": [
      "Backend\r",
      "Python De EBAC\n"
     ]
    }
   ],
   "source": [
    "my_course = \"Backend\\rPython De EBAC\"   # Ignora todo lo que esta antes del Retorno de Carro \"\\r\"\n",
    "print(my_course)"
   ]
  },
  {
   "cell_type": "code",
   "execution_count": 19,
   "id": "e9820355",
   "metadata": {},
   "outputs": [
    {
     "data": {
      "text/plain": [
       "'\\x08'"
      ]
     },
     "execution_count": 19,
     "metadata": {},
     "output_type": "execute_result"
    }
   ],
   "source": [
    "\"\\b\" # Backspace / Retorno"
   ]
  },
  {
   "cell_type": "code",
   "execution_count": 20,
   "id": "35b2637a",
   "metadata": {},
   "outputs": [
    {
     "name": "stdout",
     "output_type": "stream",
     "text": [
      "Backend\bPython De EBAC\n"
     ]
    }
   ],
   "source": [
    "my_course = \"Backend\\bPython De EBAC\"  # Elimina el caracter anterior, en este caso la \"d\"\n",
    "print(my_course)"
   ]
  },
  {
   "cell_type": "code",
   "execution_count": 21,
   "id": "cf9d06c8",
   "metadata": {},
   "outputs": [
    {
     "data": {
      "text/plain": [
       "'\\\\ooo'"
      ]
     },
     "execution_count": 21,
     "metadata": {},
     "output_type": "execute_result"
    }
   ],
   "source": [
    "\"\\ooo\" # Octal"
   ]
  },
  {
   "cell_type": "code",
   "execution_count": 24,
   "id": "7ec03d14",
   "metadata": {},
   "outputs": [
    {
     "name": "stdout",
     "output_type": "stream",
     "text": [
      "Hola\n"
     ]
    }
   ],
   "source": [
    "hello_spanish_octal = \"\\110\\157\\154\\141\"\n",
    "print(hello_spanish_octal)"
   ]
  },
  {
   "cell_type": "code",
   "execution_count": 25,
   "id": "ed716624",
   "metadata": {},
   "outputs": [],
   "source": [
    "# \"\\xhh\" # Hexadecimal "
   ]
  },
  {
   "cell_type": "code",
   "execution_count": 26,
   "id": "9e380dde",
   "metadata": {},
   "outputs": [
    {
     "name": "stdout",
     "output_type": "stream",
     "text": [
      "Hola\n"
     ]
    }
   ],
   "source": [
    "hello_spanish_octal = \"\\x48\\x6f\\x6c\\x61\" \n",
    "print(hello_spanish_octal)"
   ]
  },
  {
   "cell_type": "markdown",
   "id": "32c7c44f",
   "metadata": {},
   "source": [
    "# Función eval()"
   ]
  },
  {
   "cell_type": "code",
   "execution_count": 27,
   "id": "371abb3a",
   "metadata": {},
   "outputs": [
    {
     "name": "stdout",
     "output_type": "stream",
     "text": [
      "my_number+1000\n"
     ]
    }
   ],
   "source": [
    "my_number = 22\n",
    "print(\"my_number+1000\")"
   ]
  },
  {
   "cell_type": "code",
   "execution_count": 28,
   "id": "4e16d1ce",
   "metadata": {},
   "outputs": [
    {
     "name": "stdout",
     "output_type": "stream",
     "text": [
      "1022\n"
     ]
    }
   ],
   "source": [
    "my_number = 22\n",
    "print(eval(\"my_number+1000\"))"
   ]
  },
  {
   "cell_type": "code",
   "execution_count": 29,
   "id": "f7a94644",
   "metadata": {},
   "outputs": [
    {
     "name": "stdout",
     "output_type": "stream",
     "text": [
      "Ingresa un número: 2\n"
     ]
    }
   ],
   "source": [
    "my_imput = input(\"Ingresa un número: \")"
   ]
  },
  {
   "cell_type": "code",
   "execution_count": 30,
   "id": "7b80571f",
   "metadata": {},
   "outputs": [
    {
     "ename": "NameError",
     "evalue": "name 'my_input' is not defined",
     "output_type": "error",
     "traceback": [
      "\u001b[1;31m---------------------------------------------------------------------------\u001b[0m",
      "\u001b[1;31mNameError\u001b[0m                                 Traceback (most recent call last)",
      "Cell \u001b[1;32mIn[30], line 1\u001b[0m\n\u001b[1;32m----> 1\u001b[0m \u001b[43mmy_input\u001b[49m\n",
      "\u001b[1;31mNameError\u001b[0m: name 'my_input' is not defined"
     ]
    }
   ],
   "source": [
    "my_input"
   ]
  },
  {
   "cell_type": "code",
   "execution_count": 31,
   "id": "000a0473",
   "metadata": {},
   "outputs": [
    {
     "data": {
      "text/plain": [
       "'2'"
      ]
     },
     "execution_count": 31,
     "metadata": {},
     "output_type": "execute_result"
    }
   ],
   "source": [
    "my_imput"
   ]
  },
  {
   "cell_type": "code",
   "execution_count": 32,
   "id": "afce59a4",
   "metadata": {},
   "outputs": [
    {
     "data": {
      "text/plain": [
       "2"
      ]
     },
     "execution_count": 32,
     "metadata": {},
     "output_type": "execute_result"
    }
   ],
   "source": [
    "eval(my_imput)"
   ]
  },
  {
   "cell_type": "code",
   "execution_count": 1,
   "id": "832cad8a",
   "metadata": {},
   "outputs": [
    {
     "name": "stdout",
     "output_type": "stream",
     "text": [
      "Ingresa un número: 4\n",
      "4\n",
      "<class 'str'>\n"
     ]
    }
   ],
   "source": [
    "my_imput = input(\"Ingresa un número: \")\n",
    "print(my_imput)\n",
    "print(type(my_imput))\n",
    "# Cadena / String"
   ]
  },
  {
   "cell_type": "code",
   "execution_count": 37,
   "id": "8dfe0254",
   "metadata": {},
   "outputs": [
    {
     "name": "stdout",
     "output_type": "stream",
     "text": [
      "Ingresa un número: 231\n",
      "231\n",
      "<class 'int'>\n"
     ]
    }
   ],
   "source": [
    "my_imput = eval(input(\"Ingresa un número: \"))\n",
    "print(my_imput)\n",
    "print(type(my_imput))\n",
    "# Entero / Int"
   ]
  },
  {
   "cell_type": "markdown",
   "id": "4710d08a",
   "metadata": {},
   "source": [
    "# Función range() y xrange()"
   ]
  },
  {
   "cell_type": "markdown",
   "id": "9b922609",
   "metadata": {},
   "source": [
    "### range(start, stop, step)"
   ]
  },
  {
   "cell_type": "code",
   "execution_count": 38,
   "id": "c0c82caf",
   "metadata": {},
   "outputs": [],
   "source": [
    "x = range(10)"
   ]
  },
  {
   "cell_type": "code",
   "execution_count": 39,
   "id": "0f150a01",
   "metadata": {},
   "outputs": [
    {
     "data": {
      "text/plain": [
       "range(0, 10)"
      ]
     },
     "execution_count": 39,
     "metadata": {},
     "output_type": "execute_result"
    }
   ],
   "source": [
    "x"
   ]
  },
  {
   "cell_type": "code",
   "execution_count": 41,
   "id": "a53d944d",
   "metadata": {},
   "outputs": [
    {
     "name": "stdout",
     "output_type": "stream",
     "text": [
      "0\n",
      "1\n",
      "2\n",
      "3\n",
      "4\n",
      "5\n",
      "6\n",
      "7\n",
      "8\n",
      "9\n"
     ]
    }
   ],
   "source": [
    "for number in x: \n",
    "    print(number)"
   ]
  },
  {
   "cell_type": "code",
   "execution_count": 43,
   "id": "a8693977",
   "metadata": {},
   "outputs": [
    {
     "name": "stdout",
     "output_type": "stream",
     "text": [
      "3\n",
      "4\n",
      "5\n"
     ]
    }
   ],
   "source": [
    "x = range(3,6)\n",
    "for number in x:\n",
    "    print(number)"
   ]
  },
  {
   "cell_type": "code",
   "execution_count": 44,
   "id": "9baa43a6",
   "metadata": {},
   "outputs": [
    {
     "name": "stdout",
     "output_type": "stream",
     "text": [
      "3\n",
      "5\n",
      "7\n",
      "9\n",
      "11\n",
      "13\n",
      "15\n",
      "17\n",
      "19\n"
     ]
    }
   ],
   "source": [
    "x = range(3,20,2)             #range (inicio, final, cantidad de pasos en los que va a ir la iteracion)\n",
    "for number in x:\n",
    "    print(number)"
   ]
  },
  {
   "cell_type": "markdown",
   "id": "5a8a84b5",
   "metadata": {},
   "source": [
    "## Mutabilidad e Inmutabilidad"
   ]
  },
  {
   "cell_type": "code",
   "execution_count": 45,
   "id": "ae033262",
   "metadata": {},
   "outputs": [],
   "source": [
    "tuplel = (1,2,3,4,5)"
   ]
  },
  {
   "cell_type": "code",
   "execution_count": 46,
   "id": "fba20837",
   "metadata": {},
   "outputs": [
    {
     "data": {
      "text/plain": [
       "(1, 2, 3, 4, 5)"
      ]
     },
     "execution_count": 46,
     "metadata": {},
     "output_type": "execute_result"
    }
   ],
   "source": [
    "tuplel"
   ]
  },
  {
   "cell_type": "markdown",
   "id": "89b8c0b6",
   "metadata": {},
   "source": [
    "## Inmutabilidad"
   ]
  },
  {
   "cell_type": "code",
   "execution_count": 47,
   "id": "6984bf8d",
   "metadata": {},
   "outputs": [
    {
     "ename": "TypeError",
     "evalue": "'tuple' object does not support item assignment",
     "output_type": "error",
     "traceback": [
      "\u001b[1;31m---------------------------------------------------------------------------\u001b[0m",
      "\u001b[1;31mTypeError\u001b[0m                                 Traceback (most recent call last)",
      "Cell \u001b[1;32mIn[47], line 1\u001b[0m\n\u001b[1;32m----> 1\u001b[0m tuplel[\u001b[38;5;241m0\u001b[39m] \u001b[38;5;241m=\u001b[39m \u001b[38;5;241m10\u001b[39m\n",
      "\u001b[1;31mTypeError\u001b[0m: 'tuple' object does not support item assignment"
     ]
    }
   ],
   "source": [
    "tuplel[0] = 10    # las tuplas son inmutables"
   ]
  },
  {
   "cell_type": "code",
   "execution_count": 48,
   "id": "f75bc9c8",
   "metadata": {},
   "outputs": [],
   "source": [
    "my_string = \"Aprendiendo sobre inmutabilidad\""
   ]
  },
  {
   "cell_type": "code",
   "execution_count": 49,
   "id": "50890a84",
   "metadata": {},
   "outputs": [
    {
     "data": {
      "text/plain": [
       "'Aprendiendo sobre inmutabilidad'"
      ]
     },
     "execution_count": 49,
     "metadata": {},
     "output_type": "execute_result"
    }
   ],
   "source": [
    "my_string"
   ]
  },
  {
   "cell_type": "code",
   "execution_count": 50,
   "id": "5bb7b5c9",
   "metadata": {},
   "outputs": [
    {
     "ename": "TypeError",
     "evalue": "'str' object does not support item assignment",
     "output_type": "error",
     "traceback": [
      "\u001b[1;31m---------------------------------------------------------------------------\u001b[0m",
      "\u001b[1;31mTypeError\u001b[0m                                 Traceback (most recent call last)",
      "Cell \u001b[1;32mIn[50], line 1\u001b[0m\n\u001b[1;32m----> 1\u001b[0m my_string[\u001b[38;5;241m0\u001b[39m] \u001b[38;5;241m=\u001b[39m \u001b[38;5;124m\"\u001b[39m\u001b[38;5;124ma\u001b[39m\u001b[38;5;124m\"\u001b[39m\n",
      "\u001b[1;31mTypeError\u001b[0m: 'str' object does not support item assignment"
     ]
    }
   ],
   "source": [
    "my_string[0] = \"a\""
   ]
  },
  {
   "cell_type": "code",
   "execution_count": 51,
   "id": "61850c15",
   "metadata": {},
   "outputs": [],
   "source": [
    "colors = [\"rojo\",\"azul\",\"verde\",\"negro\"]"
   ]
  },
  {
   "cell_type": "code",
   "execution_count": 52,
   "id": "42b01453",
   "metadata": {},
   "outputs": [
    {
     "data": {
      "text/plain": [
       "['rojo', 'azul', 'verde', 'negro']"
      ]
     },
     "execution_count": 52,
     "metadata": {},
     "output_type": "execute_result"
    }
   ],
   "source": [
    "colors"
   ]
  },
  {
   "cell_type": "code",
   "execution_count": 53,
   "id": "7d701a1c",
   "metadata": {},
   "outputs": [],
   "source": [
    "colors[0] = \"Blanco\""
   ]
  },
  {
   "cell_type": "code",
   "execution_count": 54,
   "id": "8fa08297",
   "metadata": {},
   "outputs": [
    {
     "data": {
      "text/plain": [
       "['Blanco', 'azul', 'verde', 'negro']"
      ]
     },
     "execution_count": 54,
     "metadata": {},
     "output_type": "execute_result"
    }
   ],
   "source": [
    "colors"
   ]
  },
  {
   "cell_type": "markdown",
   "id": "abdff09e",
   "metadata": {},
   "source": [
    "# Función print()"
   ]
  },
  {
   "cell_type": "code",
   "execution_count": 55,
   "id": "a496e8ce",
   "metadata": {},
   "outputs": [],
   "source": [
    "# Mostrar un Resultado"
   ]
  },
  {
   "cell_type": "code",
   "execution_count": 56,
   "id": "0bc99f1a",
   "metadata": {},
   "outputs": [],
   "source": [
    "my_variable = 567"
   ]
  },
  {
   "cell_type": "code",
   "execution_count": 57,
   "id": "8adf3153",
   "metadata": {},
   "outputs": [
    {
     "name": "stdout",
     "output_type": "stream",
     "text": [
      "El Valor de my_variable es:  567\n"
     ]
    }
   ],
   "source": [
    "print(\"El Valor de my_variable es: \", my_variable)"
   ]
  },
  {
   "cell_type": "code",
   "execution_count": 58,
   "id": "294c4851",
   "metadata": {},
   "outputs": [
    {
     "name": "stdout",
     "output_type": "stream",
     "text": [
      "El valor de d es:  800\n"
     ]
    }
   ],
   "source": [
    "a=100\n",
    "b=200\n",
    "c=500\n",
    "d=a+b+c\n",
    "print(\"El valor de d es: \",d)"
   ]
  },
  {
   "cell_type": "code",
   "execution_count": 59,
   "id": "be621082",
   "metadata": {},
   "outputs": [],
   "source": [
    "import builtins"
   ]
  },
  {
   "cell_type": "code",
   "execution_count": 61,
   "id": "51b4cefd",
   "metadata": {},
   "outputs": [
    {
     "name": "stdout",
     "output_type": "stream",
     "text": [
      "Help on built-in function print in module builtins:\n",
      "\n",
      "print(...)\n",
      "    print(value, ..., sep=' ', end='\\n', file=sys.stdout, flush=False)\n",
      "    \n",
      "    Prints the values to a stream, or to sys.stdout by default.\n",
      "    Optional keyword arguments:\n",
      "    file:  a file-like object (stream); defaults to the current sys.stdout.\n",
      "    sep:   string inserted between values, default a space.\n",
      "    end:   string appended after the last value, default a newline.\n",
      "    flush: whether to forcibly flush the stream.\n",
      "\n"
     ]
    }
   ],
   "source": [
    "help(builtins.print)"
   ]
  },
  {
   "cell_type": "code",
   "execution_count": 62,
   "id": "697b6f43",
   "metadata": {},
   "outputs": [
    {
     "name": "stdout",
     "output_type": "stream",
     "text": [
      "Help on built-in function print in module builtins:\n",
      "\n",
      "print(...)\n",
      "    print(value, ..., sep=' ', end='\\n', file=sys.stdout, flush=False)\n",
      "    \n",
      "    Prints the values to a stream, or to sys.stdout by default.\n",
      "    Optional keyword arguments:\n",
      "    file:  a file-like object (stream); defaults to the current sys.stdout.\n",
      "    sep:   string inserted between values, default a space.\n",
      "    end:   string appended after the last value, default a newline.\n",
      "    flush: whether to forcibly flush the stream.\n",
      "\n"
     ]
    }
   ],
   "source": [
    "help(print)"
   ]
  },
  {
   "cell_type": "code",
   "execution_count": 63,
   "id": "e57621f8",
   "metadata": {},
   "outputs": [
    {
     "data": {
      "text/plain": [
       "['ArithmeticError',\n",
       " 'AssertionError',\n",
       " 'AttributeError',\n",
       " 'BaseException',\n",
       " 'BlockingIOError',\n",
       " 'BrokenPipeError',\n",
       " 'BufferError',\n",
       " 'BytesWarning',\n",
       " 'ChildProcessError',\n",
       " 'ConnectionAbortedError',\n",
       " 'ConnectionError',\n",
       " 'ConnectionRefusedError',\n",
       " 'ConnectionResetError',\n",
       " 'DeprecationWarning',\n",
       " 'EOFError',\n",
       " 'Ellipsis',\n",
       " 'EncodingWarning',\n",
       " 'EnvironmentError',\n",
       " 'Exception',\n",
       " 'False',\n",
       " 'FileExistsError',\n",
       " 'FileNotFoundError',\n",
       " 'FloatingPointError',\n",
       " 'FutureWarning',\n",
       " 'GeneratorExit',\n",
       " 'IOError',\n",
       " 'ImportError',\n",
       " 'ImportWarning',\n",
       " 'IndentationError',\n",
       " 'IndexError',\n",
       " 'InterruptedError',\n",
       " 'IsADirectoryError',\n",
       " 'KeyError',\n",
       " 'KeyboardInterrupt',\n",
       " 'LookupError',\n",
       " 'MemoryError',\n",
       " 'ModuleNotFoundError',\n",
       " 'NameError',\n",
       " 'None',\n",
       " 'NotADirectoryError',\n",
       " 'NotImplemented',\n",
       " 'NotImplementedError',\n",
       " 'OSError',\n",
       " 'OverflowError',\n",
       " 'PendingDeprecationWarning',\n",
       " 'PermissionError',\n",
       " 'ProcessLookupError',\n",
       " 'RecursionError',\n",
       " 'ReferenceError',\n",
       " 'ResourceWarning',\n",
       " 'RuntimeError',\n",
       " 'RuntimeWarning',\n",
       " 'StopAsyncIteration',\n",
       " 'StopIteration',\n",
       " 'SyntaxError',\n",
       " 'SyntaxWarning',\n",
       " 'SystemError',\n",
       " 'SystemExit',\n",
       " 'TabError',\n",
       " 'TimeoutError',\n",
       " 'True',\n",
       " 'TypeError',\n",
       " 'UnboundLocalError',\n",
       " 'UnicodeDecodeError',\n",
       " 'UnicodeEncodeError',\n",
       " 'UnicodeError',\n",
       " 'UnicodeTranslateError',\n",
       " 'UnicodeWarning',\n",
       " 'UserWarning',\n",
       " 'ValueError',\n",
       " 'Warning',\n",
       " 'WindowsError',\n",
       " 'ZeroDivisionError',\n",
       " '__IPYTHON__',\n",
       " '__build_class__',\n",
       " '__debug__',\n",
       " '__doc__',\n",
       " '__import__',\n",
       " '__loader__',\n",
       " '__name__',\n",
       " '__package__',\n",
       " '__spec__',\n",
       " 'abs',\n",
       " 'aiter',\n",
       " 'all',\n",
       " 'anext',\n",
       " 'any',\n",
       " 'ascii',\n",
       " 'bin',\n",
       " 'bool',\n",
       " 'breakpoint',\n",
       " 'bytearray',\n",
       " 'bytes',\n",
       " 'callable',\n",
       " 'chr',\n",
       " 'classmethod',\n",
       " 'compile',\n",
       " 'complex',\n",
       " 'copyright',\n",
       " 'credits',\n",
       " 'delattr',\n",
       " 'dict',\n",
       " 'dir',\n",
       " 'display',\n",
       " 'divmod',\n",
       " 'enumerate',\n",
       " 'eval',\n",
       " 'exec',\n",
       " 'execfile',\n",
       " 'filter',\n",
       " 'float',\n",
       " 'format',\n",
       " 'frozenset',\n",
       " 'get_ipython',\n",
       " 'getattr',\n",
       " 'globals',\n",
       " 'hasattr',\n",
       " 'hash',\n",
       " 'help',\n",
       " 'hex',\n",
       " 'id',\n",
       " 'input',\n",
       " 'int',\n",
       " 'isinstance',\n",
       " 'issubclass',\n",
       " 'iter',\n",
       " 'len',\n",
       " 'license',\n",
       " 'list',\n",
       " 'locals',\n",
       " 'map',\n",
       " 'max',\n",
       " 'memoryview',\n",
       " 'min',\n",
       " 'next',\n",
       " 'object',\n",
       " 'oct',\n",
       " 'open',\n",
       " 'ord',\n",
       " 'pow',\n",
       " 'print',\n",
       " 'property',\n",
       " 'range',\n",
       " 'repr',\n",
       " 'reversed',\n",
       " 'round',\n",
       " 'runfile',\n",
       " 'set',\n",
       " 'setattr',\n",
       " 'slice',\n",
       " 'sorted',\n",
       " 'staticmethod',\n",
       " 'str',\n",
       " 'sum',\n",
       " 'super',\n",
       " 'tuple',\n",
       " 'type',\n",
       " 'vars',\n",
       " 'zip']"
      ]
     },
     "execution_count": 63,
     "metadata": {},
     "output_type": "execute_result"
    }
   ],
   "source": [
    "dir(builtins)"
   ]
  },
  {
   "cell_type": "markdown",
   "id": "8581fb97",
   "metadata": {},
   "source": [
    "# Función type()"
   ]
  },
  {
   "cell_type": "code",
   "execution_count": 64,
   "id": "d6ffa3b5",
   "metadata": {},
   "outputs": [
    {
     "name": "stdout",
     "output_type": "stream",
     "text": [
      "570\n"
     ]
    }
   ],
   "source": [
    "number=570\n",
    "print(number)"
   ]
  },
  {
   "cell_type": "code",
   "execution_count": 66,
   "id": "0c6513df",
   "metadata": {},
   "outputs": [
    {
     "name": "stdout",
     "output_type": "stream",
     "text": [
      "570\n",
      "<class 'int'>\n"
     ]
    }
   ],
   "source": [
    "# Entero / Int       # Numeros enteros\n",
    "number=570\n",
    "print(number)\n",
    "print(type(number))"
   ]
  },
  {
   "cell_type": "code",
   "execution_count": 68,
   "id": "f476e391",
   "metadata": {},
   "outputs": [
    {
     "name": "stdout",
     "output_type": "stream",
     "text": [
      "Backend Python\n",
      "<class 'str'>\n"
     ]
    }
   ],
   "source": [
    "# Cadena / String        # Texto\n",
    "string=\"Backend Python\"\n",
    "print(string)\n",
    "print(type(string))"
   ]
  },
  {
   "cell_type": "code",
   "execution_count": 69,
   "id": "3435b237",
   "metadata": {},
   "outputs": [
    {
     "name": "stdout",
     "output_type": "stream",
     "text": [
      "3.14\n",
      "<class 'float'>\n"
     ]
    }
   ],
   "source": [
    "# Flotante / float     # Numeros con Decimales\n",
    "float=3.14\n",
    "print(float)\n",
    "print(type(float))"
   ]
  },
  {
   "cell_type": "code",
   "execution_count": 70,
   "id": "9e9344d4",
   "metadata": {},
   "outputs": [
    {
     "name": "stdout",
     "output_type": "stream",
     "text": [
      "\n",
      "<class 'str'>\n"
     ]
    }
   ],
   "source": [
    "# Cadena Vacia / String\n",
    "string=\"\"\n",
    "print(string)\n",
    "print(type(string))"
   ]
  },
  {
   "cell_type": "code",
   "execution_count": 71,
   "id": "1b0eedc0",
   "metadata": {},
   "outputs": [
    {
     "name": "stdout",
     "output_type": "stream",
     "text": [
      "True\n",
      "<class 'bool'>\n"
     ]
    }
   ],
   "source": [
    "# Boolean              \n",
    "boolean = True\n",
    "print(boolean)\n",
    "print(type(boolean))"
   ]
  },
  {
   "cell_type": "code",
   "execution_count": 73,
   "id": "5039d580",
   "metadata": {},
   "outputs": [
    {
     "name": "stdout",
     "output_type": "stream",
     "text": [
      "[1, 2, 3, 4, 5]\n",
      "<class 'list'>\n"
     ]
    }
   ],
   "source": [
    "# Listas / list\n",
    "list=[1,2,3,4,5]\n",
    "print(list)\n",
    "print(type(list))"
   ]
  },
  {
   "cell_type": "code",
   "execution_count": 75,
   "id": "b722f803",
   "metadata": {},
   "outputs": [
    {
     "name": "stdout",
     "output_type": "stream",
     "text": [
      "(1, 2, 3, 4)\n",
      "<class 'tuple'>\n"
     ]
    }
   ],
   "source": [
    "# Tuplas / tuple\n",
    "tuple = (1,2,3,4)\n",
    "print(tuple)\n",
    "print(type(tuple))"
   ]
  },
  {
   "cell_type": "code",
   "execution_count": 78,
   "id": "cd8e862e",
   "metadata": {},
   "outputs": [
    {
     "name": "stdout",
     "output_type": "stream",
     "text": [
      "{'python', 2.5, 4, 1}\n",
      "<class 'set'>\n"
     ]
    }
   ],
   "source": [
    "# Set     # Se pueden combinar distintos tipos de datos, ya sean int, float, string, etc\n",
    "set = {4,1,\"python\",2.5}\n",
    "print(set)\n",
    "print(type(set))"
   ]
  },
  {
   "cell_type": "code",
   "execution_count": 79,
   "id": "01b8b9a1",
   "metadata": {},
   "outputs": [
    {
     "name": "stdout",
     "output_type": "stream",
     "text": [
      "{'a': 20, 'b': 10, 'c': 30}\n",
      "<class 'dict'>\n"
     ]
    }
   ],
   "source": [
    "# Diccionarios / dict    # Estructuras de llave valor\n",
    "dictionary = {\"a\":20,\"b\":10,\"c\":30}\n",
    "print(dictionary)\n",
    "print(type(dictionary))"
   ]
  },
  {
   "cell_type": "markdown",
   "id": "ece17194",
   "metadata": {},
   "source": [
    "# Funcion id()"
   ]
  },
  {
   "cell_type": "markdown",
   "id": "c0f95a35",
   "metadata": {},
   "source": [
    "### id() función para obtener la direccion de memoria"
   ]
  },
  {
   "cell_type": "code",
   "execution_count": 80,
   "id": "fb05c4e2",
   "metadata": {},
   "outputs": [
    {
     "name": "stdout",
     "output_type": "stream",
     "text": [
      "Backend Python\n",
      "<class 'str'>\n",
      "1532525496112\n"
     ]
    }
   ],
   "source": [
    "# Cadena / String       \n",
    "string=\"Backend Python\" \n",
    "print(string)\n",
    "print(type(string))\n",
    "print(id(string))"
   ]
  },
  {
   "cell_type": "code",
   "execution_count": 82,
   "id": "71fad5d4",
   "metadata": {},
   "outputs": [],
   "source": [
    "# Cuando las variables tienen el mismo dato/valor, la direccion de memoria sera la misma, asi se optimiza el uso de memoria"
   ]
  },
  {
   "cell_type": "markdown",
   "id": "1ee330b8",
   "metadata": {},
   "source": [
    "# Múltiples valores de entrada"
   ]
  },
  {
   "cell_type": "code",
   "execution_count": 83,
   "id": "948ebde4",
   "metadata": {},
   "outputs": [
    {
     "name": "stdout",
     "output_type": "stream",
     "text": [
      "Ingresa el valor de number: 2000\n",
      "El valor de number es: 2000\n"
     ]
    }
   ],
   "source": [
    "number = input(\"Ingresa el valor de number: \")\n",
    "print(\"El valor de number es:\", number)"
   ]
  },
  {
   "cell_type": "code",
   "execution_count": null,
   "id": "a9447640",
   "metadata": {},
   "outputs": [],
   "source": [
    "a,b,c = input(\"Ingresa los 3 valores: \").split()\n",
    "print(\"El valor de a es: \", a)\n",
    "print(\"El valor de b es: \", b)\n",
    "print(\"El valor de c es: \", c)"
   ]
  },
  {
   "cell_type": "code",
   "execution_count": null,
   "id": "a452250f",
   "metadata": {},
   "outputs": [],
   "source": [
    "a,b,c = input(\"Ingresa los 3 valores de number: \").split(\",\")\n",
    "print(\"El valor de a es: \", a)\n",
    "print(\"El valor de b es: \", b)\n",
    "print(\"El valor de c es: \", c)"
   ]
  },
  {
   "cell_type": "code",
   "execution_count": null,
   "id": "ea32cbef",
   "metadata": {},
   "outputs": [],
   "source": []
  }
 ],
 "metadata": {
  "kernelspec": {
   "display_name": "Python 3 (ipykernel)",
   "language": "python",
   "name": "python3"
  },
  "language_info": {
   "codemirror_mode": {
    "name": "ipython",
    "version": 3
   },
   "file_extension": ".py",
   "mimetype": "text/x-python",
   "name": "python",
   "nbconvert_exporter": "python",
   "pygments_lexer": "ipython3",
   "version": "3.10.9"
  }
 },
 "nbformat": 4,
 "nbformat_minor": 5
}
