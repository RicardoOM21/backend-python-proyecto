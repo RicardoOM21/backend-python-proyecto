{
 "cells": [
  {
   "cell_type": "markdown",
   "id": "7eb3375a",
   "metadata": {},
   "source": [
    "# Panorama"
   ]
  },
  {
   "cell_type": "code",
   "execution_count": 1,
   "id": "5fe45c7c",
   "metadata": {},
   "outputs": [],
   "source": [
    "# int - Integer/Entero\n",
    "\n",
    "#float - Float/Numeros con Decimales\n",
    "\n",
    "#complex - Complex/Complejos (Numeros con una parte real y una imaginaria)\n",
    "\n",
    "#bool - Boolean/Valores logicos(True/false)\n",
    "\n",
    "# str - String/Cadenas(Texto)\n"
   ]
  },
  {
   "cell_type": "markdown",
   "id": "e7b1ba30",
   "metadata": {},
   "source": [
    "# int - Integer / Enteros"
   ]
  },
  {
   "cell_type": "code",
   "execution_count": 2,
   "id": "6be41ede",
   "metadata": {},
   "outputs": [
    {
     "name": "stdout",
     "output_type": "stream",
     "text": [
      "El valor de integer es:  11\n",
      "El tipo de dato de integer es:  <class 'int'>\n"
     ]
    }
   ],
   "source": [
    "integer = 11\n",
    "print(\"El valor de integer es: \",integer)\n",
    "print(\"El tipo de dato de integer es: \",type(integer))"
   ]
  },
  {
   "cell_type": "code",
   "execution_count": 3,
   "id": "9a9fbf48",
   "metadata": {},
   "outputs": [
    {
     "name": "stdout",
     "output_type": "stream",
     "text": [
      "El valor de integer es:  2023\n",
      "El tipo de dato de integer es:  <class 'int'>\n"
     ]
    }
   ],
   "source": [
    "integer = 2023\n",
    "print(\"El valor de integer es: \",integer)\n",
    "print(\"El tipo de dato de integer es: \",type(integer))"
   ]
  },
  {
   "cell_type": "markdown",
   "id": "789afe25",
   "metadata": {},
   "source": [
    "# float - Float/Numeros con Decimales"
   ]
  },
  {
   "cell_type": "code",
   "execution_count": 4,
   "id": "0ee1d790",
   "metadata": {},
   "outputs": [
    {
     "name": "stdout",
     "output_type": "stream",
     "text": [
      "El valor de float es:  11.1\n",
      "El tipo de dato de float es:  <class 'float'>\n"
     ]
    }
   ],
   "source": [
    "float = 11.1\n",
    "print(\"El valor de float es: \",float)\n",
    "print(\"El tipo de dato de float es: \",type(float))"
   ]
  },
  {
   "cell_type": "code",
   "execution_count": 5,
   "id": "4c7e171c",
   "metadata": {},
   "outputs": [
    {
     "name": "stdout",
     "output_type": "stream",
     "text": [
      "El valor de float es:  2000.0\n",
      "El tipo de dato de float es:  <class 'float'>\n"
     ]
    }
   ],
   "source": [
    "# Notacion Cientifica\n",
    "float = 2e3 # 2.0*10**3\n",
    "print(\"El valor de float es: \",float)\n",
    "print(\"El tipo de dato de float es: \",type(float))"
   ]
  },
  {
   "cell_type": "code",
   "execution_count": 6,
   "id": "8d110b04",
   "metadata": {},
   "outputs": [
    {
     "name": "stdout",
     "output_type": "stream",
     "text": [
      "El valor de float es:  1.1\n",
      "El tipo de dato de float es:  <class 'float'>\n"
     ]
    }
   ],
   "source": [
    "float = 1.1e0 # 1.1*10**0\n",
    "print(\"El valor de float es: \",float)\n",
    "print(\"El tipo de dato de float es: \",type(float))"
   ]
  },
  {
   "cell_type": "code",
   "execution_count": 7,
   "id": "e9cb8300",
   "metadata": {},
   "outputs": [
    {
     "name": "stdout",
     "output_type": "stream",
     "text": [
      "El valor de float es:  0.08\n",
      "El tipo de dato de float es:  <class 'float'>\n"
     ]
    }
   ],
   "source": [
    "float = 8e-2 # 8*10**-2\n",
    "print(\"El valor de float es: \",float)\n",
    "print(\"El tipo de dato de float es: \",type(float))"
   ]
  },
  {
   "cell_type": "markdown",
   "id": "89713daa",
   "metadata": {},
   "source": [
    "# comples - Complex / Complejos"
   ]
  },
  {
   "cell_type": "code",
   "execution_count": 8,
   "id": "fa50c44c",
   "metadata": {},
   "outputs": [],
   "source": [
    "#complex = x + yj\n",
    "# x= parte real\n",
    "# yj = parte imaginaria"
   ]
  },
  {
   "cell_type": "code",
   "execution_count": 9,
   "id": "7957d28f",
   "metadata": {},
   "outputs": [
    {
     "name": "stdout",
     "output_type": "stream",
     "text": [
      "El valor de complex es:  (3+9j)\n",
      "El tipo de dato de complex es:  <class 'complex'>\n"
     ]
    }
   ],
   "source": [
    "complex = 3 + 9j\n",
    "print(\"El valor de complex es: \",complex)\n",
    "print(\"El tipo de dato de complex es: \",type(complex))"
   ]
  },
  {
   "cell_type": "code",
   "execution_count": 10,
   "id": "1af42ea4",
   "metadata": {},
   "outputs": [
    {
     "name": "stdout",
     "output_type": "stream",
     "text": [
      "El valor de complex es:  (2+5j)\n",
      "El tipo de dato de complex es:  <class 'complex'>\n"
     ]
    }
   ],
   "source": [
    "complex = 2 + 5j\n",
    "print(\"El valor de complex es: \",complex)\n",
    "print(\"El tipo de dato de complex es: \",type(complex))"
   ]
  },
  {
   "cell_type": "markdown",
   "id": "3bfcfcfb",
   "metadata": {},
   "source": [
    "# bool - Boolean/Valores logicos(True/False)"
   ]
  },
  {
   "cell_type": "code",
   "execution_count": 11,
   "id": "fe0c7f2c",
   "metadata": {},
   "outputs": [
    {
     "name": "stdout",
     "output_type": "stream",
     "text": [
      "El valor de boolean es:  True\n",
      "El tipo de dato de boolean es:  <class 'bool'>\n"
     ]
    }
   ],
   "source": [
    "boolean = True\n",
    "print(\"El valor de boolean es: \",boolean)\n",
    "print(\"El tipo de dato de boolean es: \",type(boolean))"
   ]
  },
  {
   "cell_type": "code",
   "execution_count": 12,
   "id": "9e0d028e",
   "metadata": {},
   "outputs": [
    {
     "name": "stdout",
     "output_type": "stream",
     "text": [
      "El valor de boolean es:  False\n",
      "El tipo de dato de boolean es:  <class 'bool'>\n"
     ]
    }
   ],
   "source": [
    "boolean = False\n",
    "print(\"El valor de boolean es: \",boolean)\n",
    "print(\"El tipo de dato de boolean es: \",type(boolean))"
   ]
  },
  {
   "cell_type": "code",
   "execution_count": 13,
   "id": "6950882b",
   "metadata": {},
   "outputs": [],
   "source": [
    "# True = 1\n",
    "# False = 0"
   ]
  },
  {
   "cell_type": "code",
   "execution_count": 14,
   "id": "a2fde4a5",
   "metadata": {},
   "outputs": [
    {
     "name": "stdout",
     "output_type": "stream",
     "text": [
      "3\n"
     ]
    }
   ],
   "source": [
    "# 3\n",
    "print(True+True+True)"
   ]
  },
  {
   "cell_type": "code",
   "execution_count": 15,
   "id": "3a2bac0a",
   "metadata": {},
   "outputs": [
    {
     "name": "stdout",
     "output_type": "stream",
     "text": [
      "3\n"
     ]
    }
   ],
   "source": [
    "# 3\n",
    "print(True+True+True+False)"
   ]
  },
  {
   "cell_type": "markdown",
   "id": "0a8dc996",
   "metadata": {},
   "source": [
    "# str - String/Cadenas(Texto)"
   ]
  },
  {
   "cell_type": "code",
   "execution_count": 16,
   "id": "89e777b6",
   "metadata": {},
   "outputs": [
    {
     "name": "stdout",
     "output_type": "stream",
     "text": [
      "El valor de string es:  Backend Python\n",
      "El tipo de dato de string es:  <class 'str'>\n"
     ]
    }
   ],
   "source": [
    "string = \"Backend Python\"\n",
    "print(\"El valor de string es: \",string)\n",
    "print(\"El tipo de dato de string es: \",type(string))"
   ]
  },
  {
   "cell_type": "code",
   "execution_count": 18,
   "id": "897c1934",
   "metadata": {},
   "outputs": [
    {
     "name": "stdout",
     "output_type": "stream",
     "text": [
      "El valor de string es:  Backend Python Ejemplo de Concatenar cadenas\n",
      "El tipo de dato de string es:  <class 'str'>\n"
     ]
    }
   ],
   "source": [
    "string = \"Backend Python \" + \"Ejemplo de Concatenar cadenas\"\n",
    "print(\"El valor de string es: \",string)\n",
    "print(\"El tipo de dato de string es: \",type(string))"
   ]
  },
  {
   "cell_type": "code",
   "execution_count": 19,
   "id": "6e6cca99",
   "metadata": {},
   "outputs": [
    {
     "name": "stdout",
     "output_type": "stream",
     "text": [
      "El valor de string es:  Backend Python\n",
      "\n",
      "Diversas lineas de texto, cual parrafo largo\n",
      "\n",
      "sin problema.\n",
      "El tipo de dato de string es:  <class 'str'>\n"
     ]
    }
   ],
   "source": [
    "string = \"\"\"Backend Python\\n\n",
    "Diversas lineas de texto, cual parrafo largo\\n\n",
    "sin problema.\"\"\"\n",
    "print(\"El valor de string es: \",string)\n",
    "print(\"El tipo de dato de string es: \",type(string))"
   ]
  },
  {
   "cell_type": "markdown",
   "id": "14772a3a",
   "metadata": {},
   "source": [
    "# Variables\n",
    "#### - Son un espacio temporal para guardar un valor con un nombre especifico\n",
    "#### - No hay necesidad de declarar el tipo de dato explícitamente\n",
    "#### - En Python es un lenguaje tipado dinamicamente, lo que quiere decir que el tipo de dato se define mientras corre el programa\n",
    "#### - Las variables en python funcionan diferente que en otros lenguajes de programacion\n",
    "#### - No necesitamos crear las variables, solo asignamos un nombre con el cual la quieras crear y un valor utilizando el operador de asignacion \"=\"\n",
    "\n",
    "## Tipos de variables:\n",
    "#### - Variables globales: Aquellas que se utilizaran para todo el programa \n",
    "#### - Variables locales: Aquellas que se utilizaran solo en un bloque especifico\n"
   ]
  },
  {
   "cell_type": "markdown",
   "id": "5149b426",
   "metadata": {},
   "source": [
    "# Variables Globales\n",
    "- Declaramos variables globales afuera de funciones\n",
    "- El valor de la variable puede ser constante para todo el programa\n",
    "- Cualquier funcion podrá acceder a estas variables\n",
    "- Podemos decir que las Variables Globales tienen un alcance global\n",
    "- Normalmente son mas usadas para constantes\n",
    "- Las Variables Globales mantienen sus valores a traves de la ejecucion completa de tu programa\n",
    "- Una Variable Global puede ser accesada por cualquier funcion"
   ]
  },
  {
   "cell_type": "code",
   "execution_count": 20,
   "id": "aa8924d3",
   "metadata": {},
   "outputs": [],
   "source": [
    "#Variable Global\n",
    "global_variable = 50\n",
    "\n",
    "def function1():\n",
    "    pass\n",
    "def function2():\n",
    "    pass"
   ]
  },
  {
   "cell_type": "code",
   "execution_count": 21,
   "id": "2f50db0e",
   "metadata": {},
   "outputs": [],
   "source": [
    "#Variable local\n",
    "def function1():\n",
    "    local_variable=5\n",
    "  \n",
    "def function2():\n",
    "    local_variable=35"
   ]
  },
  {
   "cell_type": "code",
   "execution_count": 22,
   "id": "39d32158",
   "metadata": {},
   "outputs": [],
   "source": [
    "global_variable = 50\n",
    "\n",
    "def function1():\n",
    "    print(\"function 1 - El valor de global_variable es: \",global_variable)\n",
    "def function2():\n",
    "    print(\"function 2 - El valor de global_variable es: \",global_variable)"
   ]
  },
  {
   "cell_type": "code",
   "execution_count": 24,
   "id": "768107bd",
   "metadata": {},
   "outputs": [
    {
     "name": "stdout",
     "output_type": "stream",
     "text": [
      "function 1 - El valor de global_variable es:  50\n"
     ]
    }
   ],
   "source": [
    "function1()"
   ]
  },
  {
   "cell_type": "code",
   "execution_count": 25,
   "id": "70096df9",
   "metadata": {},
   "outputs": [
    {
     "name": "stdout",
     "output_type": "stream",
     "text": [
      "function 2 - El valor de global_variable es:  50\n"
     ]
    }
   ],
   "source": [
    "function2()"
   ]
  },
  {
   "cell_type": "code",
   "execution_count": 27,
   "id": "c1367cb2",
   "metadata": {},
   "outputs": [],
   "source": [
    "# Preferencia al valor local, y despues al global\n",
    "variable = 50 # Global\n",
    "\n",
    "def function1():\n",
    "    variable=10 # Local\n",
    "    print(\"function 1 - El valor de variable es: \",variable)\n",
    "def function2():\n",
    "    variable=40 #Local\n",
    "    print(\"function 2 - El valor de variable es: \",variable)\n",
    "def function3():\n",
    "    print(\"function 3 - El valor de variable es: \",variable)"
   ]
  },
  {
   "cell_type": "code",
   "execution_count": 28,
   "id": "a5a8ae10",
   "metadata": {},
   "outputs": [
    {
     "name": "stdout",
     "output_type": "stream",
     "text": [
      "function 1 - El valor de variable es:  10\n"
     ]
    }
   ],
   "source": [
    "function1()"
   ]
  },
  {
   "cell_type": "code",
   "execution_count": 29,
   "id": "ff78d28c",
   "metadata": {},
   "outputs": [
    {
     "name": "stdout",
     "output_type": "stream",
     "text": [
      "function 2 - El valor de variable es:  40\n"
     ]
    }
   ],
   "source": [
    "function2()"
   ]
  },
  {
   "cell_type": "code",
   "execution_count": 30,
   "id": "36154207",
   "metadata": {},
   "outputs": [
    {
     "name": "stdout",
     "output_type": "stream",
     "text": [
      "function 3 - El valor de variable es:  50\n"
     ]
    }
   ],
   "source": [
    "function3()"
   ]
  },
  {
   "cell_type": "markdown",
   "id": "3532bdc2",
   "metadata": {},
   "source": [
    "# Variables Locales\n",
    "- Podemos usarlas denTro de una funcion\n",
    "- Podemos tener una restriccion al acceder a una variable local desde otra funcion\n",
    "- No podemos usarlas durante todo el programa\n",
    "- El alcance y visibilidad se limita al interior de la funcion\n",
    "- Lo que dure la funcion sera lo que dure el alcance de nuestra variable"
   ]
  },
  {
   "cell_type": "code",
   "execution_count": 31,
   "id": "27cef77a",
   "metadata": {},
   "outputs": [],
   "source": [
    "#Variable Global\n",
    "global_variable = 50\n",
    "\n",
    "def function1():\n",
    "    pass\n",
    "def function2():\n",
    "    pass"
   ]
  },
  {
   "cell_type": "code",
   "execution_count": 32,
   "id": "d0ef4b59",
   "metadata": {},
   "outputs": [],
   "source": [
    "#Variable local\n",
    "def function1():\n",
    "    local_variable=5\n",
    "  \n",
    "def function2():\n",
    "    local_variable=35\n"
   ]
  },
  {
   "cell_type": "code",
   "execution_count": 2,
   "id": "9a69710b",
   "metadata": {},
   "outputs": [],
   "source": [
    "def function1():\n",
    "    variable=10 # Local\n",
    "    print(\"function 1 - El valor de variable es: \",variable)\n",
    "def function2():\n",
    "    variable=40 #Local\n",
    "    print(\"function 2 - El valor de variable es: \",variable)\n",
    "def function3():\n",
    "    print(\"function 3 - El valor de variable es: \",variable)"
   ]
  },
  {
   "cell_type": "code",
   "execution_count": 3,
   "id": "d86117d7",
   "metadata": {},
   "outputs": [
    {
     "name": "stdout",
     "output_type": "stream",
     "text": [
      "function 1 - El valor de variable es:  10\n"
     ]
    }
   ],
   "source": [
    "function1()"
   ]
  },
  {
   "cell_type": "code",
   "execution_count": 4,
   "id": "59f13107",
   "metadata": {},
   "outputs": [
    {
     "name": "stdout",
     "output_type": "stream",
     "text": [
      "function 2 - El valor de variable es:  40\n"
     ]
    }
   ],
   "source": [
    "function2()"
   ]
  },
  {
   "cell_type": "code",
   "execution_count": 5,
   "id": "7d4d01c8",
   "metadata": {},
   "outputs": [
    {
     "ename": "NameError",
     "evalue": "name 'variable' is not defined",
     "output_type": "error",
     "traceback": [
      "\u001b[1;31m---------------------------------------------------------------------------\u001b[0m",
      "\u001b[1;31mNameError\u001b[0m                                 Traceback (most recent call last)",
      "Cell \u001b[1;32mIn[5], line 1\u001b[0m\n\u001b[1;32m----> 1\u001b[0m \u001b[43mfunction3\u001b[49m\u001b[43m(\u001b[49m\u001b[43m)\u001b[49m\n",
      "Cell \u001b[1;32mIn[2], line 8\u001b[0m, in \u001b[0;36mfunction3\u001b[1;34m()\u001b[0m\n\u001b[0;32m      7\u001b[0m \u001b[38;5;28;01mdef\u001b[39;00m \u001b[38;5;21mfunction3\u001b[39m():\n\u001b[1;32m----> 8\u001b[0m     \u001b[38;5;28mprint\u001b[39m(\u001b[38;5;124m\"\u001b[39m\u001b[38;5;124mfunction 3 - El valor de variable es: \u001b[39m\u001b[38;5;124m\"\u001b[39m,\u001b[43mvariable\u001b[49m)\n",
      "\u001b[1;31mNameError\u001b[0m: name 'variable' is not defined"
     ]
    }
   ],
   "source": [
    "# error\n",
    "function3()"
   ]
  },
  {
   "cell_type": "markdown",
   "id": "eeb2da2e",
   "metadata": {},
   "source": [
    "# Palabra Reservada \"global\""
   ]
  },
  {
   "cell_type": "code",
   "execution_count": 6,
   "id": "8adabe8f",
   "metadata": {},
   "outputs": [],
   "source": [
    "def function1():\n",
    "    variable=10 # Local\n",
    "    print(\"function 1 - El valor de variable es: \",variable)\n",
    "def function2():\n",
    "    global variable # Global\n",
    "    variable=40 \n",
    "    print(\"function 2 - El valor de variable es: \",variable)\n",
    "def function3():\n",
    "    print(\"function 3 - El valor de variable es: \",variable)"
   ]
  },
  {
   "cell_type": "code",
   "execution_count": 7,
   "id": "6455fd9b",
   "metadata": {},
   "outputs": [
    {
     "name": "stdout",
     "output_type": "stream",
     "text": [
      "function 1 - El valor de variable es:  10\n"
     ]
    }
   ],
   "source": [
    "function1()"
   ]
  },
  {
   "cell_type": "code",
   "execution_count": 8,
   "id": "978b1080",
   "metadata": {},
   "outputs": [
    {
     "name": "stdout",
     "output_type": "stream",
     "text": [
      "function 2 - El valor de variable es:  40\n"
     ]
    }
   ],
   "source": [
    "function2()"
   ]
  },
  {
   "cell_type": "code",
   "execution_count": 9,
   "id": "1fe12989",
   "metadata": {},
   "outputs": [
    {
     "name": "stdout",
     "output_type": "stream",
     "text": [
      "function 3 - El valor de variable es:  40\n"
     ]
    }
   ],
   "source": [
    "function3()"
   ]
  },
  {
   "cell_type": "code",
   "execution_count": 11,
   "id": "207780c8",
   "metadata": {},
   "outputs": [],
   "source": [
    "def function1():\n",
    "    variable=10 # Local\n",
    "    print(\"function 1 - El valor de variable es: \",variable)\n",
    "def function2():\n",
    "    global a,b,c,d,e # Global\n",
    "    a=10\n",
    "    b=20\n",
    "    c=30\n",
    "    d=220\n",
    "    e=1000\n",
    "    print(\"function 2 - El valor de a es: \",a)\n",
    "    print(\"function 2 - El valor de b es: \",b)\n",
    "    print(\"function 2 - El valor de c es: \",c)\n",
    "    print(\"function 2 - El valor de d es: \",d)\n",
    "    print(\"function 2 - El valor de e es: \",e)\n",
    "def function3():\n",
    "    print(\"function 2 - El valor de a es: \",a)\n",
    "    print(\"function 2 - El valor de b es: \",b)\n",
    "    print(\"function 2 - El valor de c es: \",c)\n",
    "    print(\"function 2 - El valor de d es: \",d)\n",
    "    print(\"function 2 - El valor de e es: \",e)"
   ]
  },
  {
   "cell_type": "code",
   "execution_count": 12,
   "id": "00c07b48",
   "metadata": {},
   "outputs": [
    {
     "name": "stdout",
     "output_type": "stream",
     "text": [
      "function 1 - El valor de variable es:  10\n"
     ]
    }
   ],
   "source": [
    "function1()"
   ]
  },
  {
   "cell_type": "code",
   "execution_count": 13,
   "id": "be6923c7",
   "metadata": {},
   "outputs": [
    {
     "name": "stdout",
     "output_type": "stream",
     "text": [
      "function 2 - El valor de a es:  10\n",
      "function 2 - El valor de b es:  20\n",
      "function 2 - El valor de c es:  30\n",
      "function 2 - El valor de d es:  220\n",
      "function 2 - El valor de e es:  1000\n"
     ]
    }
   ],
   "source": [
    "function2()"
   ]
  },
  {
   "cell_type": "code",
   "execution_count": 14,
   "id": "97dd18ce",
   "metadata": {},
   "outputs": [
    {
     "name": "stdout",
     "output_type": "stream",
     "text": [
      "function 2 - El valor de a es:  10\n",
      "function 2 - El valor de b es:  20\n",
      "function 2 - El valor de c es:  30\n",
      "function 2 - El valor de d es:  220\n",
      "function 2 - El valor de e es:  1000\n"
     ]
    }
   ],
   "source": [
    "function3()"
   ]
  },
  {
   "cell_type": "markdown",
   "id": "916e2fe4",
   "metadata": {},
   "source": [
    "# Tipos de Enteros\n",
    "- Forma Decimal\n",
    "- Forma Binaria\n",
    "- Forma Octal\n",
    "- Forma Hexadecimal"
   ]
  },
  {
   "cell_type": "markdown",
   "id": "b57ce0d7",
   "metadata": {},
   "source": [
    "# Forma Decimal"
   ]
  },
  {
   "cell_type": "code",
   "execution_count": 15,
   "id": "17425178",
   "metadata": {},
   "outputs": [
    {
     "name": "stdout",
     "output_type": "stream",
     "text": [
      "El valor de Decimal es:  55\n"
     ]
    }
   ],
   "source": [
    "Decimal = 55\n",
    "print(\"El valor de Decimal es: \",Decimal)"
   ]
  },
  {
   "cell_type": "code",
   "execution_count": 16,
   "id": "b2d4df4e",
   "metadata": {},
   "outputs": [
    {
     "name": "stdout",
     "output_type": "stream",
     "text": [
      "El valor de Decimal es:  213216361923864\n"
     ]
    }
   ],
   "source": [
    "Decimal = 213216361923864\n",
    "print(\"El valor de Decimal es: \",Decimal)"
   ]
  },
  {
   "cell_type": "markdown",
   "id": "813a132d",
   "metadata": {},
   "source": [
    "# Forma Binaria\n",
    "- Codigo organizado en bytes\n",
    "- Lenguaje Binario\n",
    "- Lenguaje de las maquinas (1 y 0)\n",
    "\n",
    "### Valor Base: 2\n",
    "\n",
    "- Solamente acepta 2 digitos (1 y 0)\n",
    "- Usamos el prefijo '0b' o '0B'\n"
   ]
  },
  {
   "cell_type": "code",
   "execution_count": 18,
   "id": "e7962032",
   "metadata": {},
   "outputs": [
    {
     "name": "stdout",
     "output_type": "stream",
     "text": [
      "El valor de Decimal es:  11\n"
     ]
    }
   ],
   "source": [
    "Decimal = 11\n",
    "print(\"El valor de Decimal es: \",Decimal)"
   ]
  },
  {
   "cell_type": "code",
   "execution_count": 21,
   "id": "a32e8b7f",
   "metadata": {},
   "outputs": [
    {
     "name": "stdout",
     "output_type": "stream",
     "text": [
      "El valor de binary es:  3\n"
     ]
    }
   ],
   "source": [
    "binary = 0b11 # 1*2**1 + 1*2**0\n",
    "print(\"El valor de binary es: \", binary)"
   ]
  },
  {
   "cell_type": "code",
   "execution_count": 22,
   "id": "e8ddebcf",
   "metadata": {},
   "outputs": [
    {
     "name": "stdout",
     "output_type": "stream",
     "text": [
      "El valor de Decimal es:  111\n"
     ]
    }
   ],
   "source": [
    "Decimal = 111\n",
    "print(\"El valor de Decimal es: \",Decimal)"
   ]
  },
  {
   "cell_type": "code",
   "execution_count": 23,
   "id": "a0213b23",
   "metadata": {},
   "outputs": [
    {
     "name": "stdout",
     "output_type": "stream",
     "text": [
      "El valor de binary es:  7\n"
     ]
    }
   ],
   "source": [
    "binary = 0B111 # 1*2**2 + 1*2**1 + 1*2**0\n",
    "print(\"El valor de binary es: \", binary)"
   ]
  },
  {
   "cell_type": "markdown",
   "id": "1049e036",
   "metadata": {},
   "source": [
    "# Forma Octal\n",
    "\n",
    "\n",
    "### Valor Base: 8\n",
    "- Solamente acepta digitos del 0 al 7\n",
    "- Usamos el prefijo '0o' o '0O'"
   ]
  },
  {
   "cell_type": "code",
   "execution_count": 24,
   "id": "09e293f0",
   "metadata": {},
   "outputs": [
    {
     "name": "stdout",
     "output_type": "stream",
     "text": [
      "El valor de Decimal es:  17\n"
     ]
    }
   ],
   "source": [
    "Decimal = 17\n",
    "print(\"El valor de Decimal es: \",Decimal)"
   ]
  },
  {
   "cell_type": "code",
   "execution_count": 25,
   "id": "aae446a4",
   "metadata": {},
   "outputs": [
    {
     "name": "stdout",
     "output_type": "stream",
     "text": [
      "El valor de octal es:  15\n"
     ]
    }
   ],
   "source": [
    "octal = 0o17 # 1*8**1 + 7*8**0\n",
    "print(\"El valor de octal es: \", octal)"
   ]
  },
  {
   "cell_type": "code",
   "execution_count": 26,
   "id": "0ef24336",
   "metadata": {},
   "outputs": [
    {
     "name": "stdout",
     "output_type": "stream",
     "text": [
      "El valor de Decimal es:  153\n"
     ]
    }
   ],
   "source": [
    "Decimal = 153\n",
    "print(\"El valor de Decimal es: \",Decimal)"
   ]
  },
  {
   "cell_type": "code",
   "execution_count": 27,
   "id": "22e9b852",
   "metadata": {},
   "outputs": [
    {
     "name": "stdout",
     "output_type": "stream",
     "text": [
      "El valor de octal es:  107\n"
     ]
    }
   ],
   "source": [
    "octal = 0O153 # 1*8**2 + 5*8**1 + 3*8**0\n",
    "print(\"El valor de octal es: \", octal)"
   ]
  },
  {
   "cell_type": "markdown",
   "id": "46dc6447",
   "metadata": {},
   "source": [
    "# Forma Hexadecimal\n",
    "\n",
    "### Valor Base: 16\n",
    "- Acepta digitos del 0 al 9 \n",
    "- Acepta letras de la 'a/A' a la 'f/F'\n",
    "- Usamos el prefijo '0x' o '0X'\n",
    "- 0\n",
    "- 1\n",
    "- 2\n",
    "- 3\n",
    "- 4\n",
    "- 5\n",
    "- 6\n",
    "- 7\n",
    "- 8\n",
    "- 9\n",
    "- A = 10\n",
    "- B = 11\n",
    "- C = 12\n",
    "- D = 13\n",
    "- E = 14\n",
    "- F = 15\n"
   ]
  },
  {
   "cell_type": "code",
   "execution_count": 28,
   "id": "e52bd2c2",
   "metadata": {},
   "outputs": [
    {
     "name": "stdout",
     "output_type": "stream",
     "text": [
      "El valor de Decimal es:  17\n"
     ]
    }
   ],
   "source": [
    "Decimal = 17\n",
    "print(\"El valor de Decimal es: \",Decimal)"
   ]
  },
  {
   "cell_type": "code",
   "execution_count": 29,
   "id": "833a6502",
   "metadata": {},
   "outputs": [
    {
     "name": "stdout",
     "output_type": "stream",
     "text": [
      "El valor de hexnumber es:  23\n"
     ]
    }
   ],
   "source": [
    "hexnumber = 0x17 # 1*16**1 + 7*16**0\n",
    "print(\"El valor de hexnumber es: \", hexnumber)"
   ]
  },
  {
   "cell_type": "code",
   "execution_count": 30,
   "id": "ae77d6d5",
   "metadata": {},
   "outputs": [
    {
     "name": "stdout",
     "output_type": "stream",
     "text": [
      "El valor de hexnumber es:  28\n"
     ]
    }
   ],
   "source": [
    "hexnumber = 0x1C # 1*16**1 + C(12)*16**0\n",
    "print(\"El valor de hexnumber es: \", hexnumber)"
   ]
  },
  {
   "cell_type": "markdown",
   "id": "a616c15b",
   "metadata": {},
   "source": [
    "# "
   ]
  }
 ],
 "metadata": {
  "kernelspec": {
   "display_name": "Python 3 (ipykernel)",
   "language": "python",
   "name": "python3"
  },
  "language_info": {
   "codemirror_mode": {
    "name": "ipython",
    "version": 3
   },
   "file_extension": ".py",
   "mimetype": "text/x-python",
   "name": "python",
   "nbconvert_exporter": "python",
   "pygments_lexer": "ipython3",
   "version": "3.10.9"
  }
 },
 "nbformat": 4,
 "nbformat_minor": 5
}
